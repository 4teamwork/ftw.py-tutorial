{
 "cells": [
  {
   "cell_type": "markdown",
   "metadata": {},
   "source": [
    "# Welcome to ftw.py-tutorial\n",
    "\n",
    "This is a tutorial for catching up the very basics of python3.\n",
    "\n",
    "- Use `shift + enter` to execute code in a cell.\n",
    "- `Hints and code snippets are written like that.`"
   ]
  },
  {
   "cell_type": "code",
   "execution_count": null,
   "metadata": {
    "scrolled": true
   },
   "outputs": [],
   "source": [
    "print('Hello World!')"
   ]
  },
  {
   "cell_type": "markdown",
   "metadata": {},
   "source": [
    "## Assigning Values\n",
    "\n",
    "To assign a value to a variable we can use the `=` operator like:  \n",
    "`myvar = 'A string being assigned to myvar.'`\n",
    "\n",
    "Try assigning a string to a variable and then print it with `print(myvar)`"
   ]
  },
  {
   "cell_type": "code",
   "execution_count": null,
   "metadata": {},
   "outputs": [],
   "source": []
  },
  {
   "cell_type": "markdown",
   "metadata": {},
   "source": [
    "## Datatypes and Variables\n",
    "\n",
    "There are different datatypes we can use in python, e.g.:\n",
    "\n",
    "- Integer (14)\n",
    "- Float (3.14)\n",
    "- Boolean (True/False)\n",
    "\n",
    "and then there are some complexer ones like:\n",
    "\n",
    "- String\n",
    "- List\n",
    "- Dictionary\n",
    "- Tuple\n",
    "- Set"
   ]
  },
  {
   "cell_type": "markdown",
   "metadata": {},
   "source": [
    "Add `2.31` to `4`. What data types do the numbers and the result have?\n",
    "\n",
    "`Hint: try using type(var) to find out what type it is.`  \n",
    "`Hint: in python you can use the normal + operator to add numbers.`"
   ]
  },
  {
   "cell_type": "code",
   "execution_count": null,
   "metadata": {},
   "outputs": [],
   "source": []
  },
  {
   "cell_type": "markdown",
   "metadata": {},
   "source": [
    "## Type Conversion\n",
    "\n",
    "Sometimes it is necessary to change the type of a variable (casting).\n",
    "We can do that by wraping it into a function trying to do it for us like `int('5')`.\n",
    "\n",
    "Convert the float number `55.12` to an integer and test if the type changed."
   ]
  },
  {
   "cell_type": "code",
   "execution_count": null,
   "metadata": {},
   "outputs": [],
   "source": []
  },
  {
   "cell_type": "markdown",
   "metadata": {},
   "source": [
    "Now try to concatenate different types.  \n",
    "`print(\"Number: \" + 5)`  \n",
    "This code returns an error because we have a string on the left and an integer on the right. Can you fix it?\n",
    "\n",
    "`Hint: for example an integer can be casted to a float using float(myint).`"
   ]
  },
  {
   "cell_type": "code",
   "execution_count": null,
   "metadata": {},
   "outputs": [],
   "source": []
  },
  {
   "cell_type": "markdown",
   "metadata": {},
   "source": [
    "## Operators\n",
    "\n",
    "We have operators in python for adding `+`, subtracting `-`, multiplication `*`, division `/`, modulus `%`, floor division `//` and exponent `**`.\n",
    "\n",
    "Make an example with each operator. Which datatypes do the return values have?"
   ]
  },
  {
   "cell_type": "code",
   "execution_count": null,
   "metadata": {},
   "outputs": [],
   "source": []
  },
  {
   "cell_type": "code",
   "execution_count": null,
   "metadata": {},
   "outputs": [],
   "source": []
  },
  {
   "cell_type": "code",
   "execution_count": null,
   "metadata": {},
   "outputs": [],
   "source": []
  },
  {
   "cell_type": "code",
   "execution_count": null,
   "metadata": {},
   "outputs": [],
   "source": []
  },
  {
   "cell_type": "code",
   "execution_count": null,
   "metadata": {},
   "outputs": [],
   "source": []
  },
  {
   "cell_type": "code",
   "execution_count": null,
   "metadata": {},
   "outputs": [],
   "source": []
  },
  {
   "cell_type": "code",
   "execution_count": null,
   "metadata": {},
   "outputs": [],
   "source": []
  }
 ],
 "metadata": {
  "kernelspec": {
   "display_name": "Python 3",
   "language": "python",
   "name": "python3"
  },
  "language_info": {
   "codemirror_mode": {
    "name": "ipython",
    "version": 3
   },
   "file_extension": ".py",
   "mimetype": "text/x-python",
   "name": "python",
   "nbconvert_exporter": "python",
   "pygments_lexer": "ipython3",
   "version": "3.7.0"
  }
 },
 "nbformat": 4,
 "nbformat_minor": 2
}
