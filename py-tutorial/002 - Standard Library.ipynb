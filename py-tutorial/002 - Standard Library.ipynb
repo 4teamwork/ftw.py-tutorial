{
 "cells": [
  {
   "cell_type": "markdown",
   "metadata": {},
   "source": [
    "## Fiddling with strings\n",
    "\n",
    "Lets start with concatinating a string. We can do that with `'{first_part} and then {second_part}'.format(first_part='This', second_part='that')`."
   ]
  },
  {
   "cell_type": "markdown",
   "metadata": {},
   "source": [
    "    someone = \"Matthias\"\n",
    "    print(\"Hallo, {}\")\n",
    "Fill the variable `someone` into our string, to say hello to Matthias."
   ]
  },
  {
   "cell_type": "code",
   "execution_count": null,
   "metadata": {},
   "outputs": [],
   "source": []
  },
  {
   "cell_type": "markdown",
   "metadata": {},
   "source": [
    "    person = \"Tinu\"\n",
    "    car = \"smart\"\n",
    "    parking_slot = 6\n",
    "    print(\"Hello {}, your {} is ready on parking slot {}.\")\n",
    "Fill the values into the string in order to inform Tinu about his smart."
   ]
  },
  {
   "cell_type": "code",
   "execution_count": null,
   "metadata": {},
   "outputs": [],
   "source": []
  },
  {
   "cell_type": "markdown",
   "metadata": {},
   "source": [
    "## String conversion\n",
    "\n",
    "Lets look at `upper`, `lower`, `rstrip` and how to only take a part of the string by using `string[x:y]`."
   ]
  },
  {
   "cell_type": "markdown",
   "metadata": {},
   "source": [
    "    user_input = \"PlaYer1234\"\n",
    "    username = user_input\n",
    "Validate the user_input and convert each uppercase character to a lowercase character (`PlaYer1234` -> `player1234`)"
   ]
  },
  {
   "cell_type": "code",
   "execution_count": null,
   "metadata": {},
   "outputs": [],
   "source": []
  },
  {
   "cell_type": "markdown",
   "metadata": {},
   "source": [
    "    my_string = \"I'm typing some strange exercises and listen to sad songs.\"\n",
    "Extract from this string the word strange, and convert it to uppsercase."
   ]
  },
  {
   "cell_type": "code",
   "execution_count": null,
   "metadata": {},
   "outputs": [],
   "source": []
  },
  {
   "cell_type": "markdown",
   "metadata": {},
   "source": [
    "    name = \"Ivan   \"\n",
    "    other_string = \"{} wants to go to Amsterdam next summer with his mates.\".format(name)\n",
    "    print(other_string)\n",
    "Can you remove the spaces in the name variable, without changing its value manually?"
   ]
  },
  {
   "cell_type": "code",
   "execution_count": null,
   "metadata": {},
   "outputs": [],
   "source": []
  },
  {
   "cell_type": "markdown",
   "metadata": {},
   "source": [
    "## Many more\n",
    "\n",
    "Look at [this resource](https://docs.python.org/3/library/functions.html) in the python docs to learn about many more standard library built in functions."
   ]
  }
 ],
 "metadata": {
  "kernelspec": {
   "display_name": "Python 3",
   "language": "python",
   "name": "python3"
  },
  "language_info": {
   "codemirror_mode": {
    "name": "ipython",
    "version": 3
   },
   "file_extension": ".py",
   "mimetype": "text/x-python",
   "name": "python",
   "nbconvert_exporter": "python",
   "pygments_lexer": "ipython3",
   "version": "3.7.4"
  }
 },
 "nbformat": 4,
 "nbformat_minor": 2
}
