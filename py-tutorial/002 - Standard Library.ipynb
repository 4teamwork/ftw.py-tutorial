{
 "cells": [
  {
   "cell_type": "markdown",
   "metadata": {},
   "source": [
    "## Fiddling with strings\n",
    "\n",
    "Lets start with concatinating a string. We can do that with:  \n",
    "`'{first_part} and then {second_part}'.format(first_part='This', second_part='that')`.\n",
    "\n",
    "Fill the variable `someone` into our string, to say hello to Hildegard.\n",
    "\n",
    "```\n",
    "someone = \"Hildegard\"\n",
    "print(\"Hallo, {}\")\n",
    "```"
   ]
  },
  {
   "cell_type": "code",
   "execution_count": null,
   "metadata": {},
   "outputs": [],
   "source": []
  },
  {
   "cell_type": "markdown",
   "metadata": {},
   "source": [
    "Fill the values into the string in order to inform Tinu about his smart. \n",
    "\n",
    "```\n",
    "person = \"Tinu\"\n",
    "car = \"smart\"\n",
    "parking_lot = 6\n",
    "print(\"Hello {}, your {} is ready on parking lot {}.\")\n",
    "```"
   ]
  },
  {
   "cell_type": "code",
   "execution_count": null,
   "metadata": {},
   "outputs": [],
   "source": []
  },
  {
   "cell_type": "markdown",
   "metadata": {},
   "source": [
    "## String conversion\n",
    "\n",
    "Lets look at `upper`, `lower`, `rstrip` and how to only take a part of the string by using `string[x:y]`.\n",
    "\n",
    "Make sure that a `username` is a lower case string (`PlaYer1234` -> `player1234`)\n",
    "```\n",
    "user_input = \"PlaYer1234\"\n",
    "username = user_input\n",
    "```\n",
    "\n",
    "`Hint: the functions above can be used like: new_var = 'I aM a sTriNg.'.upper()`"
   ]
  },
  {
   "cell_type": "code",
   "execution_count": null,
   "metadata": {},
   "outputs": [],
   "source": []
  },
  {
   "cell_type": "markdown",
   "metadata": {},
   "source": [
    "Extract the word strange from the string and convert it to uppercase.\n",
    "```\n",
    "my_string = \"I'm typing some strange exercises and listen to sad songs.\"\n",
    "```"
   ]
  },
  {
   "cell_type": "code",
   "execution_count": null,
   "metadata": {},
   "outputs": [],
   "source": []
  },
  {
   "cell_type": "markdown",
   "metadata": {},
   "source": [
    "Can you remove the spaces in name, without changing its value manually?\n",
    "```\n",
    "name = \"Ivan   \"\n",
    "other_string = \"{} wants to go to Amsterdam next summer with his mates.\".format(name)\n",
    "print(other_string)\n",
    "```\n",
    "\n",
    "`Hint: check out how rstrip works`"
   ]
  },
  {
   "cell_type": "code",
   "execution_count": null,
   "metadata": {},
   "outputs": [],
   "source": []
  },
  {
   "cell_type": "markdown",
   "metadata": {},
   "source": [
    "## Built-in Functions\n",
    "\n",
    "Look at [this resource](https://docs.python.org/3/library/functions.html) in the python docs to learn about many more standard library built in functions."
   ]
  }
 ],
 "metadata": {
  "kernelspec": {
   "display_name": "Python 3",
   "language": "python",
   "name": "python3"
  },
  "language_info": {
   "codemirror_mode": {
    "name": "ipython",
    "version": 3
   },
   "file_extension": ".py",
   "mimetype": "text/x-python",
   "name": "python",
   "nbconvert_exporter": "python",
   "pygments_lexer": "ipython3",
   "version": "3.7.0"
  }
 },
 "nbformat": 4,
 "nbformat_minor": 2
}
