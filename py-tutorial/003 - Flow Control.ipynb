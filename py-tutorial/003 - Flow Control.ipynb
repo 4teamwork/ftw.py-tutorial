{
 "cells": [
  {
   "cell_type": "markdown",
   "metadata": {},
   "source": [
    "## Conditions\n",
    "\n",
    "Make jessica love dogs!\n",
    "\n",
    "```\n",
    "does_jessica_love_dogs = False\n",
    "if does_jessica_love_dogs:\n",
    "    print(\"Wuff!\")\n",
    "else:\n",
    "    print(\"I don't know her anymore\")\n",
    "```"
   ]
  },
  {
   "cell_type": "code",
   "execution_count": null,
   "metadata": {},
   "outputs": [],
   "source": []
  },
  {
   "cell_type": "markdown",
   "metadata": {},
   "source": [
    "Change the value of the variable `caro` in order to get `Hello!` as output.\n",
    "```\n",
    "caro = \"BeepBoob\"\n",
    "if caro == \"BeepBoob\":\n",
    "    print(\"Caro is busy doing programming\")\n",
    "elif caro == \"Blutoot\":\n",
    "    print(\"Hello!\")\n",
    "else:\n",
    "    print(\"... \")\n",
    "```"
   ]
  },
  {
   "cell_type": "code",
   "execution_count": null,
   "metadata": {},
   "outputs": [],
   "source": []
  },
  {
   "cell_type": "markdown",
   "metadata": {},
   "source": [
    "Check if Gabriel is working. Output yes or no.\n",
    "```\n",
    "is_gabriel_working = False\n",
    "```"
   ]
  },
  {
   "cell_type": "code",
   "execution_count": null,
   "metadata": {},
   "outputs": [],
   "source": []
  },
  {
   "cell_type": "markdown",
   "metadata": {},
   "source": [
    "Check if heiko is old enough to buy you a beer!\n",
    "```\n",
    "heikos_age = 15\n",
    "```"
   ]
  },
  {
   "cell_type": "code",
   "execution_count": null,
   "metadata": {},
   "outputs": [],
   "source": []
  },
  {
   "cell_type": "markdown",
   "metadata": {},
   "source": [
    "Create a condition to find out wether Hugo has one dog, more than one dog or if the hasn't any dog."
   ]
  },
  {
   "cell_type": "code",
   "execution_count": null,
   "metadata": {},
   "outputs": [],
   "source": []
  },
  {
   "cell_type": "markdown",
   "metadata": {},
   "source": [
    "## While loop\n",
    "\n",
    "The while loop is a top-controlled loop.\n",
    "\n",
    "Skip every second round.\n",
    "```\n",
    "i = 0\n",
    "    \n",
    "while i < 10:\n",
    "    i += 1\n",
    "    print(\"Round {}\".format(i))\n",
    "```\n",
    "\n",
    "`Hint: += is incrementing i by one each time going through the loop.`"
   ]
  },
  {
   "cell_type": "code",
   "execution_count": null,
   "metadata": {},
   "outputs": [],
   "source": []
  },
  {
   "cell_type": "markdown",
   "metadata": {},
   "source": [
    "Make this while loop also stop when the distance is smaller/equals 0 so that energy and distance never become negative.\n",
    "```\n",
    "energy = 100\n",
    "distance = 50\n",
    "increment = -5\n",
    "    \n",
    "while energy > 0:\n",
    "    energy += increment\n",
    "    distance += increment\n",
    "    print(\"Energy: {}%\".format(energy))\n",
    "    print(\"Distance: {}\".format(distance))\n",
    "```"
   ]
  },
  {
   "cell_type": "code",
   "execution_count": null,
   "metadata": {},
   "outputs": [],
   "source": []
  },
  {
   "cell_type": "markdown",
   "metadata": {},
   "source": [
    "Create this pattern with a while loop printing a string beeing concatenated with additional stars.\n",
    "```\n",
    "*\n",
    "* *\n",
    "* * *\n",
    "* * * *\n",
    "* * * * *\n",
    "```"
   ]
  },
  {
   "cell_type": "code",
   "execution_count": null,
   "metadata": {},
   "outputs": [],
   "source": []
  },
  {
   "cell_type": "markdown",
   "metadata": {},
   "source": [
    "## For loop\n",
    "\n",
    "The for loop is a bottom-controlled loop.\n",
    "\n",
    "Print the round number.\n",
    "```\n",
    "for i in range(10):\n",
    "    print(\"Round ?\")\n",
    "```"
   ]
  },
  {
   "cell_type": "code",
   "execution_count": null,
   "metadata": {},
   "outputs": [],
   "source": []
  },
  {
   "cell_type": "markdown",
   "metadata": {},
   "source": [
    "Output each animal in the list\n",
    "```\n",
    "animals = [\"Dogs\", \"Aplacas\", \"Otters\"]\n",
    "    \n",
    "for animal in animals:\n",
    "    print(\"\")\n",
    "```"
   ]
  },
  {
   "cell_type": "code",
   "execution_count": null,
   "metadata": {},
   "outputs": [],
   "source": []
  },
  {
   "cell_type": "markdown",
   "metadata": {},
   "source": [
    "Output & increment each number by two.\n",
    "```\n",
    "numbers = [5, 2, 4, 9, 9, 8]\n",
    "```"
   ]
  },
  {
   "cell_type": "code",
   "execution_count": null,
   "metadata": {},
   "outputs": [],
   "source": []
  },
  {
   "cell_type": "markdown",
   "metadata": {},
   "source": [
    "Check if `gabriels_favorite_song` exists in `songs`.\n",
    "```\n",
    "gabriels_favorite_song = \"Hinterland - Casper\"\n",
    "songs = [\"Barfuss am Klavier - AnnenMayKantereit\", \"Be Mine - Ofenbach\", \"Hinterland - Casper\", \"Waves - Robin Schulz\"]\n",
    "```\n",
    "\n",
    "Use a condition within a for-loop to check if `gabriels_favourite_song` is equals the current song."
   ]
  },
  {
   "cell_type": "code",
   "execution_count": null,
   "metadata": {},
   "outputs": [],
   "source": []
  },
  {
   "cell_type": "markdown",
   "metadata": {},
   "source": [
    "The task could also be done like:\n",
    "```\n",
    "gabriels_fav_song_is_in_list = gabriels_favorite_song in songs\n",
    "```"
   ]
  },
  {
   "cell_type": "code",
   "execution_count": null,
   "metadata": {},
   "outputs": [],
   "source": []
  },
  {
   "cell_type": "markdown",
   "metadata": {},
   "source": [
    "Calculate the factorial of 5 using a for-loop.  \n",
    "`Hint: a factorial is` https://en.wikipedia.org/wiki/Factorial"
   ]
  },
  {
   "cell_type": "code",
   "execution_count": null,
   "metadata": {},
   "outputs": [],
   "source": []
  },
  {
   "cell_type": "markdown",
   "metadata": {},
   "source": [
    "## Break and Continue\n",
    "\n",
    "To interact within a loop we can use `break` and `continue`."
   ]
  },
  {
   "cell_type": "markdown",
   "metadata": {},
   "source": [
    "Skip number 3 and 6 with `continue`.\n",
    "```\n",
    "for i in range(10):\n",
    "        print(i)\n",
    "```"
   ]
  },
  {
   "cell_type": "code",
   "execution_count": null,
   "metadata": {},
   "outputs": [],
   "source": []
  },
  {
   "cell_type": "markdown",
   "metadata": {},
   "source": [
    "Stop the for loop when reaching 5 with `break`.\n",
    "```\n",
    "for i in range(10):\n",
    "    print(i)\n",
    "```"
   ]
  },
  {
   "cell_type": "code",
   "execution_count": null,
   "metadata": {},
   "outputs": [],
   "source": []
  }
 ],
 "metadata": {
  "kernelspec": {
   "display_name": "Python 3",
   "language": "python",
   "name": "python3"
  },
  "language_info": {
   "codemirror_mode": {
    "name": "ipython",
    "version": 3
   },
   "file_extension": ".py",
   "mimetype": "text/x-python",
   "name": "python",
   "nbconvert_exporter": "python",
   "pygments_lexer": "ipython3",
   "version": "3.7.0"
  }
 },
 "nbformat": 4,
 "nbformat_minor": 2
}
