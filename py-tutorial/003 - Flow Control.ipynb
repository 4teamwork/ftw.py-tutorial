{
 "cells": [
  {
   "cell_type": "markdown",
   "metadata": {},
   "source": [
    "    does_jessica_love_dogs = False\n",
    "    if does_jessica_love_dogs:\n",
    "        print(\"Wuff!\")\n",
    "    else:\n",
    "        print(\"I don't know her anymore\")\n",
    "Make jessica love dogs! "
   ]
  },
  {
   "cell_type": "code",
   "execution_count": null,
   "metadata": {},
   "outputs": [],
   "source": []
  },
  {
   "cell_type": "markdown",
   "metadata": {},
   "source": [
    "    caro = \"BeepBoob\"\n",
    "    if caro == \"BeepBoob\":\n",
    "        print(\"Caro is busy doing programming\")\n",
    "    elif caro == \"Blutoot\":\n",
    "        print(\"Hello!\")\n",
    "    else:\n",
    "        print(\"... \")\n",
    "Change the value of the variable `caro` in order to get `Hello!` as output."
   ]
  },
  {
   "cell_type": "code",
   "execution_count": null,
   "metadata": {},
   "outputs": [],
   "source": []
  },
  {
   "cell_type": "markdown",
   "metadata": {},
   "source": [
    "    is_gabriel_working = False\n",
    "Check if gabriel is working. Output yes or no."
   ]
  },
  {
   "cell_type": "code",
   "execution_count": null,
   "metadata": {},
   "outputs": [],
   "source": []
  },
  {
   "cell_type": "markdown",
   "metadata": {},
   "source": [
    "    heikos_age = 15\n",
    "Check if heiko is old enough to buy you a beer!"
   ]
  },
  {
   "cell_type": "code",
   "execution_count": null,
   "metadata": {},
   "outputs": [],
   "source": []
  },
  {
   "cell_type": "markdown",
   "metadata": {},
   "source": [
    "## While loop\n",
    "\n",
    "The while loop is a top-controlled loop."
   ]
  },
  {
   "cell_type": "markdown",
   "metadata": {},
   "source": [
    "    i = 0\n",
    "    \n",
    "    while i < 10:\n",
    "        i+= 1\n",
    "        print(\"Round {}\".format(i))\n",
    "\n",
    "Skip every second round."
   ]
  },
  {
   "cell_type": "code",
   "execution_count": null,
   "metadata": {},
   "outputs": [],
   "source": []
  },
  {
   "cell_type": "markdown",
   "metadata": {},
   "source": [
    "    energy = 100\n",
    "    distance = 50\n",
    "    speed = 5\n",
    "    \n",
    "    while energy > 0:\n",
    "        energy -= speed\n",
    "        distance -= speed\n",
    "        print(\"Energy: {}%\".format(energy))\n",
    "        print(\"Distance: {}\".format(distance))\n",
    "        \n",
    "Make the while loop also stop when the distance is smaller than 0."
   ]
  },
  {
   "cell_type": "code",
   "execution_count": null,
   "metadata": {},
   "outputs": [],
   "source": []
  },
  {
   "cell_type": "markdown",
   "metadata": {},
   "source": [
    "    *\n",
    "    * *\n",
    "    * * *\n",
    "    * * * *\n",
    "    * * * * *\n",
    "\n",
    "Create this pattern above with two while loops. One loop for the height the other one for the width."
   ]
  },
  {
   "cell_type": "code",
   "execution_count": null,
   "metadata": {},
   "outputs": [],
   "source": []
  },
  {
   "cell_type": "markdown",
   "metadata": {},
   "source": [
    "## For loop\n",
    "\n",
    "The for loop is a bottom-controlled loop."
   ]
  },
  {
   "cell_type": "markdown",
   "metadata": {},
   "source": [
    "    for i in range(10)\n",
    "        print(\"Round ?\")\n",
    "\n",
    "Return the actual round."
   ]
  },
  {
   "cell_type": "code",
   "execution_count": null,
   "metadata": {},
   "outputs": [],
   "source": []
  },
  {
   "cell_type": "markdown",
   "metadata": {},
   "source": [
    "    animals = [\"Dogs\", \"Aplacas\", \"Otters\"]\n",
    "    \n",
    "    for animal in animals:\n",
    "        print(\"\")\n",
    "        \n",
    "Output each animal in the list"
   ]
  },
  {
   "cell_type": "code",
   "execution_count": null,
   "metadata": {},
   "outputs": [],
   "source": []
  },
  {
   "cell_type": "markdown",
   "metadata": {},
   "source": [
    "    numbers = [5, 2, 4, 9, 9, 8]\n",
    "\n",
    "Output & increment each number by two."
   ]
  },
  {
   "cell_type": "code",
   "execution_count": null,
   "metadata": {},
   "outputs": [],
   "source": []
  },
  {
   "cell_type": "markdown",
   "metadata": {},
   "source": [
    "    gabriels_favorite_song = \"Hinterland - Casper\"\n",
    "    songs = [\"Barfuss am Klavier - AnnenMayKantereit\", \"Be Mine - Ofenbach\", \"Hinterland - Casper\", \"Waves - Robin Schulz\"]\n",
    "\n",
    "Check if `gabriels_favorite_song` exists in `songs`."
   ]
  },
  {
   "cell_type": "code",
   "execution_count": null,
   "metadata": {},
   "outputs": [],
   "source": []
  },
  {
   "cell_type": "markdown",
   "metadata": {},
   "source": [
    "Calculate the factorial of 5.\n",
    "https://en.wikipedia.org/wiki/Factorial"
   ]
  },
  {
   "cell_type": "code",
   "execution_count": null,
   "metadata": {},
   "outputs": [],
   "source": []
  },
  {
   "cell_type": "markdown",
   "metadata": {},
   "source": [
    "## Break and Continue\n",
    "\n",
    "To interact within a loop we can use break and continue."
   ]
  },
  {
   "cell_type": "markdown",
   "metadata": {},
   "source": [
    "    for i in range(10):\n",
    "        print(i)\n",
    "\n",
    "Skip number 3 and 6 with `continue`."
   ]
  },
  {
   "cell_type": "code",
   "execution_count": null,
   "metadata": {},
   "outputs": [],
   "source": []
  },
  {
   "cell_type": "markdown",
   "metadata": {},
   "source": [
    "    for i in range(10):\n",
    "        print(i)\n",
    "        \n",
    "Stop the for loop when reaching 5 with `break`."
   ]
  },
  {
   "cell_type": "code",
   "execution_count": null,
   "metadata": {},
   "outputs": [],
   "source": []
  }
 ],
 "metadata": {
  "kernelspec": {
   "display_name": "Python 3",
   "language": "python",
   "name": "python3"
  },
  "language_info": {
   "codemirror_mode": {
    "name": "ipython",
    "version": 3
   },
   "file_extension": ".py",
   "mimetype": "text/x-python",
   "name": "python",
   "nbconvert_exporter": "python",
   "pygments_lexer": "ipython3",
   "version": "3.7.4"
  }
 },
 "nbformat": 4,
 "nbformat_minor": 2
}
