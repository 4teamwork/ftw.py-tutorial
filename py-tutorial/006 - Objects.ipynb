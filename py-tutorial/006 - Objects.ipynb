{
 "cells": [
  {
   "cell_type": "markdown",
   "metadata": {},
   "source": [
    "## Objects in python\n",
    "\n",
    "An object can be thought as a collection of characteristics and abilities.\n",
    "\n",
    "```\n",
    "class Car(object):\n",
    "    self.color = 'red'\n",
    "    self.wheels = '4'\n",
    "    self.engine_is_running = False\n",
    "    \n",
    "    def start_engine(self):\n",
    "        self.engine_is_running = True\n",
    "        \n",
    "    def stop_engine(self):\n",
    "        self.engine_is_running = False\n",
    "```\n",
    "\n",
    "Lets look at a cool example how we can use classes (objects) in python."
   ]
  },
  {
   "cell_type": "code",
   "execution_count": null,
   "metadata": {},
   "outputs": [],
   "source": []
  },
  {
   "cell_type": "markdown",
   "metadata": {},
   "source": [
    "## Inheritance\n",
    "\n",
    "If we have a subclass of something we can inherit from the parent class and make use of the parent classes features.\n",
    "Lets look at an example how this can be done."
   ]
  },
  {
   "cell_type": "code",
   "execution_count": null,
   "metadata": {},
   "outputs": [],
   "source": []
  },
  {
   "cell_type": "markdown",
   "metadata": {},
   "source": [
    "## Multi Inheritance\n",
    "\n",
    "We can also easily inherit from multiple parents in python. If they bring attributes or functions having the same name, the one first in the list wins."
   ]
  },
  {
   "cell_type": "code",
   "execution_count": null,
   "metadata": {},
   "outputs": [],
   "source": []
  },
  {
   "cell_type": "markdown",
   "metadata": {},
   "source": [
    "## Operator Overloading"
   ]
  },
  {
   "cell_type": "code",
   "execution_count": null,
   "metadata": {},
   "outputs": [],
   "source": []
  }
 ],
 "metadata": {
  "kernelspec": {
   "display_name": "Python 3",
   "language": "python",
   "name": "python3"
  },
  "language_info": {
   "codemirror_mode": {
    "name": "ipython",
    "version": 3
   },
   "file_extension": ".py",
   "mimetype": "text/x-python",
   "name": "python",
   "nbconvert_exporter": "python",
   "pygments_lexer": "ipython3",
   "version": "3.7.4"
  }
 },
 "nbformat": 4,
 "nbformat_minor": 2
}
